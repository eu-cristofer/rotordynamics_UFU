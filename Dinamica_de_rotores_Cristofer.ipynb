{
 "cells": [
  {
   "cell_type": "markdown",
   "id": "96e1ccc2",
   "metadata": {},
   "source": [
    "# UNIVERSIDADE FEDERAL DE UBERLÂNDIA\n",
    "\n",
    "# Dinâmica de Rotores\n",
    "\n",
    "Aluno:\n",
    "    \n",
    "    Cristofer Antoni Souza Costa\n",
    "    \n",
    "Professor:\n",
    "\n",
    "    Aldemir Cavallini Jr."
   ]
  },
  {
   "cell_type": "markdown",
   "id": "85ec86bc",
   "metadata": {},
   "source": [
    "# Sumário\n",
    "\n",
    "- [Introdução](#Introdução)\n",
    "\n",
    "- [Importando bibliotecas e efetuando configurações](#Importando-bibliotecas-e-efetuando-configurações)\n",
    "\n",
    "- [Características do Conjunto Rotativo](#Características-do-Conjunto-Rotativo)\n",
    "\n",
    "    - [Sistema de coordenadas](#Sistema-de-coordenadas)\n",
    "\n",
    "    - [Disco](#Disco)\n",
    "\n",
    "    - [Eixo](#Eixo)\n",
    "\n"
   ]
  },
  {
   "cell_type": "markdown",
   "id": "fd28c42a",
   "metadata": {},
   "source": [
    "# Introdução\n",
    "\n",
    "O objetivo desse trabalho consiste em caracterizar o comportamento dinâmico de um sistema formado por um conjunto rotativo submetido a torção e flexão. O conjunto rotativo é composto por um eixo e disco (desbalanceado), suportado por um par de mancais.  Deseja-se prever os seguintes aspectos ainda em etapa de projeto:\n",
    "1. Torque nominal:\n",
    "\t- Determinação do mínimo diâmetro do eixo.\n",
    "2. Torção:\n",
    "\t- Comportamento estático e dinamico.\n",
    "    - Velocidades críticas quanto ao comportamento vibracional torcional.\n",
    "\t- Comportamento em transientes de partida e parada do equipamento.\n",
    "3. Flexão:\n",
    "    - Coportamento dinâmico;\n",
    "\t- Velocidades críticas quanto ao comportamento vibracional lateral.\n",
    "\t- Possíveis instabilidades.\n",
    "\t- Resposta à aplicação de massa de desbalanço.\n",
    "\t- Resposta a forças assíncronas."
   ]
  },
  {
   "cell_type": "markdown",
   "id": "c4309949",
   "metadata": {},
   "source": [
    "# Importando bibliotecas e efetuando configurações"
   ]
  },
  {
   "cell_type": "code",
   "execution_count": 3,
   "id": "89f175fb",
   "metadata": {},
   "outputs": [],
   "source": [
    "import numpy as np\n",
    "import plotly.graph_objects as go\n",
    "from pint import UnitRegistry\n",
    "from plot_vectors import plot_vectors\n",
    "\n",
    "# Configuring Pint\n",
    "ureg = UnitRegistry()\n",
    "Q_ = ureg.Quantity"
   ]
  },
  {
   "cell_type": "markdown",
   "id": "79d8ccf5",
   "metadata": {},
   "source": [
    "# Características do Conjunto Rotativo\n",
    "\n",
    "Os elementos básicos que compôe o conjunto rotativo são: o disco; o eixo; os mancais; e os elementos de selagem. Visto que em aplicações reais, o desblancemento não pode ser completamente eliminado, massas de desbalanceamento também estão presente na modelagem.\n",
    "\n",
    "Procedimento de modelagem:\n",
    "\n",
    "1. Determinar expressões para a energia cinética do disco, do eixo e das massas de dos balanços.\n",
    "\n",
    "2. Determinar expressões para a energia de deformação, com intuito de caracterizar o eixo.\n",
    "\n",
    "3. Forças para caracterizar mancais e selagens são utilizadas para determinar o trabalho virtual."
   ]
  },
  {
   "cell_type": "markdown",
   "id": "9bd560f6",
   "metadata": {},
   "source": [
    "## Sistema de Referência\n",
    "\n",
    "Buscando compreender os fenômenos relacionados com os movimentos descritos pelo conjunto rotativo, o sistema será representado matematicamente com o auxílio de dois sistemas de referência. Um inercial $R_0(X-Y-Z)$ e outro móvel $R(x-y-z)$.\n",
    "\n",
    "<div>\n",
    "<img src=\"img/Coordinate_system.png\" width=\"400\"/>\n",
    "</div>\n",
    "\n",
    "Toda a representação matemática é baseada em cursores considerando uma origem predefinida. Coforme descrito a seguir.\n",
    "\n",
    "- **Sistema inercial**, composto pela origem $O$ e cursores $\\hat{X}$, $\\hat{Y}$, $\\hat{Z}$, na forma<br><br>\n",
    "$$R_0:\\{O, \\hat{X}, \\hat{Y}, \\hat{Z}\\}.$$<br>\n",
    "Sua origem coincide com o centro geométrico dos mancais, e nesta base os vetores serão representados a partir dos cursores $\\hat{X}$, $\\hat{Y}$, $\\hat{Z}$. Por exemplo, o vetor posição pode ser expresso como<br><br>\n",
    "$$\\textbf{r}_{R_0} = X_0 \\hat{X} + Y_0 \\hat{Y} + Z_0 \\hat{Z}.$$<br>\n",
    "As grandezas escalares $X_0$, $Y_0$, e  $Z_0$ indicam a amplitude deste vetor nas respectivas direções.\n",
    "\n",
    "<br>\n",
    "\n",
    "- **Sitema móvel**, composto pela origem $G$ e cursores $\\hat{x}$, $\\hat{y}$, $\\hat{z}$, na forma<br><br>\n",
    "$$R:\\{G, \\hat{x}, \\hat{y}, \\hat{z}\\}.$$<br>\n",
    "Sua origem coincide com o centro de massa do disco, e nesta base os vetores serão representados a partir dos cursores, por exemplo, o vetor posição pode ser expresso como<br><br>\n",
    "$$\\textbf{r}_{R} = \\textit{x} \\hat{x} + \\textit{y} \\hat{y} + \\textit{z} \\hat{z}.$$<br>\n",
    "E, de forma análoga ao utilizado no sistema inercial, as grandezas escalares $x$, $y$ e $z$ indicam a amplitude deste vetor nas respectivas direções."
   ]
  },
  {
   "cell_type": "markdown",
   "id": "db5d512f",
   "metadata": {},
   "source": [
    "### Transfomação de Coordenadas\n",
    "\n",
    "O fato de o sistema de coordenadas móvel girar, implica que os sistemas móvel $R(x-y-z)$ e o sistema inercial $R_0(X-Y-Z)$ passam a guardar uma relação entre seus cursores dada por meio dos angulos $\\psi=\\psi(t)$, $\\theta=\\theta(t)$ e $\\phi=\\phi(t)$ conforme figura abaixo. Esta relação entre sistemas é dada pela matriz de transformação de coordenadas.\n",
    "\n",
    "<div>\n",
    "<img src=\"img/Coordinate_system_ complete.png\" width=\"500\"/>\n",
    "</div>\n",
    "\n",
    "Para coincidir a orientação do sistema de referência móvel com o sistema inercial, primeiramente o sistema inercial é rotacionado no sentido positivo, de acordo com a regra da mão direitra, com o angulo $\\psi$ em torno do eixo $Z$. Assim sendo podemos escrever o vetor de velocidade angular:\n",
    "\n",
    "$$\\bf{\\omega}_{R_0} = \n",
    "\\begin{align}\n",
    "    \\begin{Bmatrix}\n",
    "        0 \\\\\n",
    "        0 \\\\\n",
    "        \\dot{\\psi}(t)\n",
    "    \\end{Bmatrix}\n",
    "\\end{align}\n",
    "$$\n",
    "\n",
    "Projetando-se os cursores da base móvel sobre a base inercial, chega-se a seguinte relação entre eles, escrita de forma matricial\n",
    "\n",
    "$$\\begin{align}\n",
    "    \\begin{Bmatrix}\n",
    "        x_1 \\\\\n",
    "        y_1 \\\\\n",
    "        z_1\n",
    "    \\end{Bmatrix}_{R_1}\n",
    "\\end{align}\n",
    "=\n",
    "\\begin{bmatrix}\n",
    "    \\cos{\\psi} & \\sin{\\psi} & 0 \\\\ \n",
    "    -\\sin{\\psi} & \\cos{\\psi} & 0 \\\\ \n",
    "    0 & 0 & 1\n",
    "\\end{bmatrix}\n",
    "\\begin{Bmatrix}\n",
    "    X_0 \\\\\n",
    "    Y_0 \\\\\n",
    "    Z_0\n",
    "\\end{Bmatrix}_{R_0},\n",
    "$$\n",
    "\n",
    "onde \n",
    "\n",
    "$${}_{R_1}T_{R_0} = \n",
    "\\begin{bmatrix}\n",
    "    \\cos{\\psi} & \\sin{\\psi} & 0 \\\\ \n",
    "    -\\sin{\\psi} & \\cos{\\psi} & 0 \\\\ \n",
    "    0 & 0 & 1\n",
    "\\end{bmatrix}$$\n",
    "\n",
    "é a matriz de transformação de coordenadas que, quando aplicada a um vetor representado no sistema $R_0$, gera um representação no sistema de referência intermediário $R_1 : \\{G, x_1, y_1, z_1\\}$."
   ]
  },
  {
   "cell_type": "markdown",
   "id": "f84e4c09",
   "metadata": {},
   "source": [
    "Assim sendo, qualquer vetor descrito no sistema $R_0$ ou $R_1$ pode ser reescrito em outro sistema $R_1$ ou $R_0$ simplesmente quando os mesmos são multiplicados pela matriz de transformação de coordenadas ${}_{R_1}T_{R_0}$ ou ${}_{R_1}T^{-1}_{R_0}$. \n",
    "\n",
    "Destaca-se aqui que as matrizes de transformação de coordenadas são conceituadas em Álgebra Linear como transformação linear. Ou seja, são matrizes ortogonais e, logo, são quadradas e sua inversa é igual a sua transposta, \n",
    "\n",
    "$${}_{R_1}T_{R_0}^{-1} = {}_{R_1}T_{R_0}^T = {}_{R_0}T_{R_1},$$\n",
    "\n",
    "e seu determinante -e igual a um,\n",
    "\n",
    "$$\\det{({}_{R_1}T_{R_0})} = 1.$$\n",
    "\n",
    "Assim sendo, temos\n",
    "\n",
    "$$\\textbf{r}_{R_1} = {}_{R_1}T_{R_0} \\cdot \\textbf{r}_{R_0} \\\\\n",
    "\\textbf{r}_{R_0} = {}_{R_1}T_{R_0}^T \\cdot \\textbf{r}_{R_1}$$\n",
    "\n",
    "ou seja, a transformação linear representada pela matriz ${}_{R_1}T_{R_0}^T$ atuaria na transformação de coordenadas do sistema sistema móvel $R_1$ para o sistema inercial $R_0$."
   ]
  },
  {
   "cell_type": "markdown",
   "id": "22e14ad0",
   "metadata": {},
   "source": [
    "Por exemplo, considerando-se um ângulo $\\psi =\\pi / 4$, se tivermos o vetor \n",
    "\n",
    "$$\\textbf{a}_{R_0} = \n",
    "\\begin{align}\n",
    "    \\begin{Bmatrix}\n",
    "        0 \\\\\n",
    "        1 \\\\\n",
    "        0\n",
    "    \\end{Bmatrix}\n",
    "\\end{align}\n",
    "$$\n",
    "\n",
    "representado na base $R_0$, aplicando-se a matriz de transformação ${}_{R_1}T_{R_0}$ neste vetor, podemos obteremos sua representação na base $R_1 : \\{O, x_1, y_1, Z\\}$, na forma\n",
    " \n",
    "$$\\textbf{a}_{R_1} = \n",
    "\\begin{align}\n",
    "    \\begin{Bmatrix}\n",
    "        \\frac{\\sqrt{2}}{2} \\\\\n",
    "        \\frac{\\sqrt{2}}{2} \\\\\n",
    "        0\n",
    "    \\end{Bmatrix}\n",
    "\\end{align}\n",
    "$$\n",
    "\n",
    "O código a seguir ilustra essas transformações e suas propriedades:"
   ]
  },
  {
   "cell_type": "code",
   "execution_count": 4,
   "id": "6ea47dde",
   "metadata": {},
   "outputs": [
    {
     "data": {
      "text/plain": [
       "array([0.70710678, 0.70710678, 0.        ])"
      ]
     },
     "execution_count": 4,
     "metadata": {},
     "output_type": "execute_result"
    }
   ],
   "source": [
    "# Giro em torno de Z\n",
    "psi = np.pi / 4\n",
    "\n",
    "# Matriz de Transformação de Coordenadas R0_R1\n",
    "transformation_R0_R1 = np.array(([np.cos(psi), np.sin(psi),0],\n",
    "                                 [-np.sin(psi), np.cos(psi), 0],\n",
    "                                 [0, 0, 1]))\n",
    "\n",
    "# Verificando a implementação, definindo um vetor em R0\n",
    "vector_R0 = np.array(([0, 1, 0]))\n",
    "\n",
    "# Aplicando a matriz de transformação\n",
    "vector_R1 = transformation_R0_R1 @ vector_R0\n",
    "vector_R1"
   ]
  },
  {
   "cell_type": "code",
   "execution_count": 5,
   "id": "81b0bae0",
   "metadata": {},
   "outputs": [
    {
     "data": {
      "text/plain": [
       "True"
      ]
     },
     "execution_count": 5,
     "metadata": {},
     "output_type": "execute_result"
    }
   ],
   "source": [
    "# o módulo do vector_R0 é igual ao vector_R1?\n",
    "np.linalg.norm(vector_R0) == np.linalg.norm(vector_R1) == 1.0"
   ]
  },
  {
   "cell_type": "code",
   "execution_count": 6,
   "id": "8de59e47",
   "metadata": {},
   "outputs": [
    {
     "data": {
      "text/plain": [
       "array([4.26642159e-17, 1.00000000e+00, 0.00000000e+00])"
      ]
     },
     "execution_count": 6,
     "metadata": {},
     "output_type": "execute_result"
    }
   ],
   "source": [
    "# E voltando para o espaço vetorial R1 para R0\n",
    "transformation_R0_R1.transpose() @ vector_R1"
   ]
  },
  {
   "cell_type": "code",
   "execution_count": 7,
   "id": "c26f3544",
   "metadata": {},
   "outputs": [
    {
     "data": {
      "text/plain": [
       "array([[ 0.70710678,  0.70710678,  0.        ],\n",
       "       [-0.70710678,  0.70710678,  0.        ],\n",
       "       [ 0.        ,  0.        ,  1.        ]])"
      ]
     },
     "execution_count": 7,
     "metadata": {},
     "output_type": "execute_result"
    }
   ],
   "source": [
    "# Matriz de transformação R0_R1\n",
    "transformation_R0_R1"
   ]
  },
  {
   "cell_type": "code",
   "execution_count": 8,
   "id": "d6e0b286",
   "metadata": {},
   "outputs": [
    {
     "data": {
      "text/plain": [
       "array([[ 0.70710678, -0.70710678,  0.        ],\n",
       "       [ 0.70710678,  0.70710678,  0.        ],\n",
       "       [ 0.        ,  0.        ,  1.        ]])"
      ]
     },
     "execution_count": 8,
     "metadata": {},
     "output_type": "execute_result"
    }
   ],
   "source": [
    "# Matriz inversa da matriz de transformação R0_R1\n",
    "np.linalg.inv(transformation_R0_R1)"
   ]
  },
  {
   "cell_type": "code",
   "execution_count": 9,
   "id": "5485eb45",
   "metadata": {},
   "outputs": [
    {
     "data": {
      "text/plain": [
       "array([[ 0.70710678, -0.70710678,  0.        ],\n",
       "       [ 0.70710678,  0.70710678,  0.        ],\n",
       "       [ 0.        ,  0.        ,  1.        ]])"
      ]
     },
     "execution_count": 9,
     "metadata": {},
     "output_type": "execute_result"
    }
   ],
   "source": [
    "# Matriz inversa da matriz de transformação R0_R1\n",
    "transformation_R0_R1.transpose()"
   ]
  },
  {
   "cell_type": "code",
   "execution_count": 9,
   "id": "51763c0b",
   "metadata": {},
   "outputs": [
    {
     "data": {
      "text/plain": [
       "1.0"
      ]
     },
     "execution_count": 9,
     "metadata": {},
     "output_type": "execute_result"
    }
   ],
   "source": [
    "# Determinante da transformação linear\n",
    "np.linalg.det(transformation_R0_R1)"
   ]
  },
  {
   "cell_type": "markdown",
   "id": "53dd2da2",
   "metadata": {},
   "source": [
    "Computando as demais transformações, efetuando rotação nos eixos $x_1$ e $y$, temos:"
   ]
  },
  {
   "cell_type": "markdown",
   "id": "a4fdc354",
   "metadata": {},
   "source": [
    "\n",
    ", originando um novo eixo $x_1$ e $y_1$ (a partir de $X$ e $Y$); posteriormente a rotação $\\theta$ se dá em torno do eixo $x_1$, gerando $z_1$ e $y$ (a partir de $y_1$ e $Z$) e por fim a rotação $\\phi$ se dá em torno do eixo $y$, gerando $z$ e $x$ (a partir de $z_1$ e $x_1$)."
   ]
  },
  {
   "cell_type": "markdown",
   "id": "70f1427c",
   "metadata": {},
   "source": [
    "### Vetor de velocidade angular\n",
    "\n"
   ]
  },
  {
   "cell_type": "code",
   "execution_count": 14,
   "id": "622aa4b4",
   "metadata": {},
   "outputs": [],
   "source": [
    "# Giro em torno de X\n",
    "theta = np.pi / 4\n",
    "\n",
    "# Giro em torno de Y\n",
    "phi = np.pi / 4\n",
    "\n",
    "transformation_R2_R1 = np.array(([np.cos(psi), np.sin(psi),0],\n",
    "                                 [-np.sin(psi), np.cos(psi), 0],\n",
    "                                 [0, 0, 1]))\n",
    "\n",
    "transformation_R_R2 = np.array(([np.cos(psi), np.sin(psi),0],\n",
    "                                [-np.sin(psi), np.cos(psi), 0],\n",
    "                                [0, 0, 1]))"
   ]
  },
  {
   "cell_type": "markdown",
   "id": "317dbe41",
   "metadata": {},
   "source": [
    "## Disco\n",
    "\n",
    "Assume-se que o mesmo é rígido e caracterizado somente por sua energia cinética.\n",
    "\n",
    "### Energia Cinética"
   ]
  },
  {
   "cell_type": "markdown",
   "id": "143974e4",
   "metadata": {},
   "source": [
    "## \n",
    "\n",
    "\n",
    "\n"
   ]
  },
  {
   "cell_type": "code",
   "execution_count": null,
   "id": "0e277acb",
   "metadata": {},
   "outputs": [],
   "source": [
    "v1_R0.shape"
   ]
  },
  {
   "cell_type": "code",
   "execution_count": null,
   "id": "530433ec",
   "metadata": {},
   "outputs": [],
   "source": [
    "A = np.array(([1,2],[1,0]))"
   ]
  },
  {
   "cell_type": "code",
   "execution_count": null,
   "id": "e2d94c6d",
   "metadata": {},
   "outputs": [],
   "source": [
    "A @ np.array(([1,2]))"
   ]
  },
  {
   "cell_type": "code",
   "execution_count": null,
   "id": "16790989",
   "metadata": {},
   "outputs": [],
   "source": [
    "# Plotting\n",
    "\n",
    "shaft = 30\n",
    "\n",
    "# Cylinder parameters\n",
    "offset = 15 # from Y origin\n",
    "r = 2 # radius\n",
    "h = 1  # height\n",
    "theta = np.linspace(0, 2*np.pi, 10)\n",
    "z = r * np.cos(theta)\n",
    "x = r * np.sin(theta)\n",
    "\n",
    "# Create cylinder surface\n",
    "cylinder = go.Surface(x=np.outer(x, np.ones_like(theta)),\n",
    "                      y=offset + np.outer(np.ones_like(theta), np.linspace(0, h, 50)),\n",
    "                      z=np.outer(z, np.ones_like(theta)),\n",
    "                      colorscale='Viridis',\n",
    "                      showscale=False)\n",
    "\n",
    "# Line in origin\n",
    "bearing_line = go.Scatter3d(x=[0, 0],\n",
    "                            y=[0, shaft],\n",
    "                            z=[0, 0],\n",
    "                            mode='lines',\n",
    "                            marker={'color': 'green'},\n",
    "                            line={'dash': 'longdash',\n",
    "                                  'width': 5})\n",
    "\n",
    "# Create figure\n",
    "fig = go.Figure(data=[cylinder, bearing_line])\n",
    "\n",
    "# Set layout\n",
    "fig.update_layout(scene=dict(aspectratio=dict(x=1, y=1, z=1),\n",
    "                             aspectmode='manual'))\n",
    "\n",
    "# Show plot\n",
    "fig.show()\n"
   ]
  },
  {
   "cell_type": "code",
   "execution_count": null,
   "id": "06975a0a",
   "metadata": {},
   "outputs": [],
   "source": [
    "np.identity(4)"
   ]
  },
  {
   "cell_type": "code",
   "execution_count": null,
   "id": "80505ece",
   "metadata": {},
   "outputs": [],
   "source": []
  }
 ],
 "metadata": {
  "kernelspec": {
   "display_name": "Python 3 (ipykernel)",
   "language": "python",
   "name": "python3"
  },
  "language_info": {
   "codemirror_mode": {
    "name": "ipython",
    "version": 3
   },
   "file_extension": ".py",
   "mimetype": "text/x-python",
   "name": "python",
   "nbconvert_exporter": "python",
   "pygments_lexer": "ipython3",
   "version": "3.11.5"
  }
 },
 "nbformat": 4,
 "nbformat_minor": 5
}
