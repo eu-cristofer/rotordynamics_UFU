{
 "cells": [
  {
   "cell_type": "markdown",
   "id": "96e1ccc2",
   "metadata": {},
   "source": [
    "# UNIVERSIDADE FEDERAL DE UBERLÂNDIA\n",
    "\n",
    "# Dinâmica de Rotores\n",
    "\n",
    "Aluno:\n",
    "    \n",
    "    Cristofer Antoni Souza Costa\n",
    "    \n",
    "Professor:\n",
    "\n",
    "    Aldemir Cavallini Jr."
   ]
  },
  {
   "cell_type": "markdown",
   "id": "85ec86bc",
   "metadata": {},
   "source": [
    "# Sumário\n",
    "\n",
    "- [Introdução](#Introdução)\n",
    "\n",
    "- [Importando bibliotecas e efetuando configurações](#Importando-bibliotecas-e-efetuando-configurações)\n",
    "\n",
    "- [Características do Conjunto Rotativo](#Características-do-Conjunto-Rotativo)\n",
    "\n",
    "    - [Sistema de coordenadas](#Sistema-de-coordenadas)\n",
    "\n",
    "    - [Disco](#Disco)\n",
    "\n",
    "    - [Eixo](#Eixo)\n",
    "\n"
   ]
  },
  {
   "cell_type": "markdown",
   "id": "fd28c42a",
   "metadata": {},
   "source": [
    "# Introdução\n",
    "\n",
    "O objetivo desse trabalho consiste em caracterizar o comportamento dinâmico de um sistema formado por um conjunto rotativo submetido a torção e flexão. O conjunto rotativo é composto por um eixo e disco (desbalanceado), suportado por um par de mancais.  Deseja-se prever os seguintes aspectos ainda em etapa de projeto:\n",
    "1. Torque nominal:\n",
    "\t- Determinação do mínimo diâmetro do eixo.\n",
    "2. Torção:\n",
    "\t- Compartamento estático e dinamico.\n",
    "    - Velocidades críticas quanto ao comportamento vibracional torcional.\n",
    "\t- Comportamento em transientes de partida e parada do equipamento.\n",
    "3. Flexão:\n",
    "    - Coportamento dinâmico;\n",
    "\t- Velocidades críticas quanto ao comportamento vibracional lateral.\n",
    "\t- Possíveis instabilidades.\n",
    "\t- Resposta à aplicação de massa de desbalanço.\n",
    "\t- Resposta a forças assíncronas."
   ]
  },
  {
   "cell_type": "markdown",
   "id": "c4309949",
   "metadata": {},
   "source": [
    "# Importando bibliotecas e efetuando configurações"
   ]
  },
  {
   "cell_type": "code",
   "execution_count": 2,
   "id": "89f175fb",
   "metadata": {},
   "outputs": [],
   "source": [
    "import numpy as np\n",
    "import plotly.graph_objects as go\n",
    "from pint import UnitRegistry\n",
    "from plot_vectors import plot_vectors\n",
    "\n",
    "# Configuring Pint\n",
    "ureg = UnitRegistry()\n",
    "Q_ = ureg.Quantity"
   ]
  },
  {
   "cell_type": "markdown",
   "id": "79d8ccf5",
   "metadata": {},
   "source": [
    "# Características do Conjunto Rotativo\n",
    "\n",
    "Os elementos básicos que compôe o conjunto rotativo são: o disco; o eixo; os mancais; e os elementos de selagem. Visto que em aplicações reais, o desblancemento não pode ser completamente eliminado, massas de desbalanceamento também estão presente na modelagem.\n",
    "\n",
    "Procedimento de modelagem:\n",
    "\n",
    "1. Determinar expressões para a energia cinética do disco, do eixo e das massas de dos balanços.\n",
    "\n",
    "2. Determinar expressões para a energia de deformação, com intuito de caracterizar o eixo.\n",
    "\n",
    "3. Forças para caracterizar mancais e selagens são utilizadas para determinar o trabalho virtual."
   ]
  },
  {
   "cell_type": "markdown",
   "id": "9bd560f6",
   "metadata": {},
   "source": [
    "## Sistema de coordenadas\n",
    "\n",
    "- Referencial inercial, sua origem coincide com centro geométrico dos mancais: $R_0:\\{O_0, X, Y, Z\\}$; e\n",
    "\n",
    "- Referencial móvel, centro geométrico do disco: $R:\\{O,x,y,z\\}$.\n",
    "\n",
    "<div>\n",
    "<img src=\"img/Coordinate_system.png\" width=\"400\"/>\n",
    "</div>\n",
    "\n",
    "\n",
    "### Transfomação de Coordenadas\n",
    "\n",
    "O fato de o sistema de coordenadas móvel girar, implica que os sistemas móvel $xyz$ e o sistema inercial $XYZ$ passam a guardar uma relação dada por meio dos angulos $\\psi=\\psi(t)$, $\\theta=\\theta(t)$ e $\\phi=\\phi(t)$ conforme figura abaixo. Lembrando que a convenção ora adotada é a regra da mão direita.\n",
    "\n",
    "<div>\n",
    "<img src=\"img/Coordinate_system_ complete.png\" width=\"500\"/>\n",
    "</div>\n",
    "\n",
    "Para coincidir a orientação do sistema de coordenadas móvel com o sistema inercial: primeiramente o sistema inercial é rotacionado com o angulo $\\psi$ em torno do eixo $Z$, originando um novo eixo $x_1$ e $y_1$ (a partir de $X$ e $Y$); posteriormente a rotação $\\theta$ se dá em torno do eixo $x_1$, gerando $z_1$ e $y$ (a partir de $y_1$ e $Z$) e por fim a rotação $\\phi$ se dá em torno do eixo $y$, gerando $z$ e $x$ (a partir de $z_1$ e $x_1$). "
   ]
  },
  {
   "cell_type": "markdown",
   "id": "22e14ad0",
   "metadata": {},
   "source": [
    "Assim sendo, se tivermos o vetor \n",
    "\n",
    "$$\\vec{a}_{R_0} = \n",
    "\\begin{align}\n",
    "    \\begin{bmatrix}\n",
    "        0 \\\\\n",
    "        1 \\\\\n",
    "        0\n",
    "    \\end{bmatrix}_{R_0}\n",
    "\\end{align}\n",
    "$$\n",
    "\n",
    "representado utilizando-se os vetores da base $R_0$, aplicando-se a matriz de transformação \n",
    " \n",
    "$${}_{R_1}T_{R_0} = \n",
    "\\begin{vmatrix}\n",
    "    \\cos{\\psi} & \\sin{\\psi} & 0 \\\\ \n",
    "    -\\sin{\\psi} & \\cos{\\psi} & 0 \\\\ \n",
    "    0 & 0 & 1\n",
    "\\end{vmatrix}$$\n",
    "\n",
    "a este vetor podemos obter um novo vetor representado na base $R_1 : \\{O, x_1, y_1, Z\\}$. Considerando-se um ângulo $\\psi =\\pi / 4$, este novo vetor $\\vec{a}_{R_1}$ apresentaria os seguintes valores: \n",
    " \n",
    "$$\\vec{a}_{R_1} = \n",
    "\\begin{align}\n",
    "    \\begin{bmatrix}\n",
    "        \\frac{\\sqrt{2}}{2} \\\\\n",
    "        \\frac{\\sqrt{2}}{2} \\\\\n",
    "        0\n",
    "    \\end{bmatrix}_{R_1}\n",
    "\\end{align}\n",
    "$$\n",
    "\n",
    "Assim sendo teríamos a aplicação da Matriz de Transformação de Coordenadas do sistema inercial $R_0$ para o sistema móvel $R_1$\n",
    "\n",
    "$$\\vec{a}_{R_1} = {}_{R_1}T_{R_0} \\cdot \\vec{a}_{R_0} $$\n",
    "\n",
    "e a sua transposta \n",
    "\n",
    "$$\\vec{a}_{R_0} = {}_{R_1}T_{R_0}^T \\cdot \\vec{a}_{R_1} $$\n",
    "\n",
    "atuaria na transformação de coordenadas do sistema sistema móvel $R_1$ para o sistema inercial $R_0$.\n",
    "\n",
    "O código a seguir ilustra essas transformações"
   ]
  },
  {
   "cell_type": "code",
   "execution_count": 11,
   "id": "6ea47dde",
   "metadata": {},
   "outputs": [
    {
     "data": {
      "text/plain": [
       "array([0.70710678, 0.70710678, 0.        ])"
      ]
     },
     "execution_count": 11,
     "metadata": {},
     "output_type": "execute_result"
    }
   ],
   "source": [
    "# Giro em torno de Z - Rotação do disco\n",
    "psi = np.pi / 4\n",
    "\n",
    "# Matriz de Transformação de Coordenadas R0_Rz\n",
    "transformation_R0_R1 = np.array(([np.cos(psi), np.sin(psi),0],\n",
    "                                 [-np.sin(psi), np.cos(psi), 0],\n",
    "                                 [0, 0, 1]))\n",
    "\n",
    "# Verificando a implementação\n",
    "vector_R0 = np.array(([0, 1, 0]))\n",
    "vector_R1 = transformation_R0_R1 @ vector_R0\n",
    "vector_R1"
   ]
  },
  {
   "cell_type": "code",
   "execution_count": 12,
   "id": "81b0bae0",
   "metadata": {},
   "outputs": [
    {
     "data": {
      "text/plain": [
       "True"
      ]
     },
     "execution_count": 12,
     "metadata": {},
     "output_type": "execute_result"
    }
   ],
   "source": [
    "# o módulo do vector_R é igual ao vector_Rz?\n",
    "np.linalg.norm(vector_R0) == np.linalg.norm(vector_R1) == 1.0"
   ]
  },
  {
   "cell_type": "code",
   "execution_count": 13,
   "id": "8de59e47",
   "metadata": {},
   "outputs": [
    {
     "data": {
      "text/plain": [
       "array([4.26642159e-17, 1.00000000e+00, 0.00000000e+00])"
      ]
     },
     "execution_count": 13,
     "metadata": {},
     "output_type": "execute_result"
    }
   ],
   "source": [
    "# E voltando para o espaço vetorial RZ para R0\n",
    "# por intermédio da transposição da matriz de transformação \n",
    "transformation_R0_R1.transpose() @ vector_R1"
   ]
  },
  {
   "cell_type": "markdown",
   "id": "53dd2da2",
   "metadata": {},
   "source": [
    "### Computando os demais giros e matrizes\n",
    "\n",
    "Procedendo da mesma forma, efetuando rotação nos eixos $x_1$ e $y$, teríamos:"
   ]
  },
  {
   "cell_type": "code",
   "execution_count": 14,
   "id": "622aa4b4",
   "metadata": {},
   "outputs": [],
   "source": [
    "# Giro em torno de X\n",
    "theta = np.pi / 4\n",
    "\n",
    "# Giro em torno de Y\n",
    "phi = np.pi / 4\n",
    "\n",
    "transformation_R2_R1 = np.array(([np.cos(psi), np.sin(psi),0],\n",
    "                                [-np.sin(psi), np.cos(psi), 0],\n",
    "                                [0, 0, 1]))\n",
    "\n",
    "transformation_R_R2 = np.array(([np.cos(psi), np.sin(psi),0],\n",
    "                                [-np.sin(psi), np.cos(psi), 0],\n",
    "                                [0, 0, 1]))"
   ]
  },
  {
   "cell_type": "code",
   "execution_count": 15,
   "id": "1e29cc1d",
   "metadata": {},
   "outputs": [
    {
     "data": {
      "text/plain": [
       "array([0.70710678, 0.70710678, 0.        ])"
      ]
     },
     "execution_count": 15,
     "metadata": {},
     "output_type": "execute_result"
    }
   ],
   "source": [
    "# Verificando a implementação\n",
    "vector_R0 = np.array(([0, 1, 0]))\n",
    "vector_R1 = transformation_R0_R1 @ vector_R0\n",
    "vector_R1"
   ]
  },
  {
   "cell_type": "code",
   "execution_count": 10,
   "id": "e0ae7502",
   "metadata": {},
   "outputs": [
    {
     "data": {
      "text/plain": [
       "array([0, 1, 0])"
      ]
     },
     "execution_count": 10,
     "metadata": {},
     "output_type": "execute_result"
    }
   ],
   "source": [
    "vector_R0"
   ]
  },
  {
   "cell_type": "code",
   "execution_count": null,
   "id": "b6ea4b19",
   "metadata": {},
   "outputs": [],
   "source": [
    "v1 = np.array([1],[2],[3])\n",
    "v1.shape"
   ]
  },
  {
   "cell_type": "code",
   "execution_count": null,
   "id": "91bd09db",
   "metadata": {},
   "outputs": [],
   "source": [
    "column = v1[:, np.newaxis]\n",
    "column"
   ]
  },
  {
   "cell_type": "code",
   "execution_count": null,
   "id": "4b1c2ad4",
   "metadata": {},
   "outputs": [],
   "source": [
    "val = np.c_[[1,2,3]]"
   ]
  },
  {
   "cell_type": "code",
   "execution_count": null,
   "id": "13c7bb34",
   "metadata": {},
   "outputs": [],
   "source": [
    "val @ np.array([1,2,3])"
   ]
  },
  {
   "cell_type": "code",
   "execution_count": null,
   "id": "dbab06dd",
   "metadata": {},
   "outputs": [],
   "source": [
    "v1 @ column"
   ]
  },
  {
   "cell_type": "code",
   "execution_count": null,
   "id": "4e26d8a3",
   "metadata": {},
   "outputs": [],
   "source": [
    "# De r_0 para r_1\n",
    "vec_2 = transform_01 @ vec_0\n",
    "vec_2"
   ]
  },
  {
   "cell_type": "code",
   "execution_count": null,
   "id": "5cc4f9c9",
   "metadata": {},
   "outputs": [],
   "source": [
    "# De r_1 para r_1\n",
    "transform_01.transpose() @ vec_2"
   ]
  },
  {
   "cell_type": "code",
   "execution_count": null,
   "id": "d7f2f2e9",
   "metadata": {},
   "outputs": [],
   "source": [
    "\n",
    "\n",
    "def disk_transformation(vector, psi, theta, phi):\n",
    "    # Transformation matrix\n",
    "    # Matrizes de tranformação de coordenadas\n",
    "    # \n",
    "    \n",
    "    \n",
    "    \n",
    "    return vector\n",
    "\n",
    "v1_R0 = np.array([[1],[1],[1]])"
   ]
  },
  {
   "cell_type": "markdown",
   "id": "317dbe41",
   "metadata": {},
   "source": [
    "## Disco\n",
    "\n",
    "Assume-se que o mesmo é rígido e caracterizado somente por sua energia cinética.\n",
    "\n",
    "### Energia Cinética"
   ]
  },
  {
   "cell_type": "markdown",
   "id": "143974e4",
   "metadata": {},
   "source": [
    "## \n",
    "\n",
    "\n",
    "\n"
   ]
  },
  {
   "cell_type": "code",
   "execution_count": null,
   "id": "0e277acb",
   "metadata": {},
   "outputs": [],
   "source": [
    "v1_R0.shape"
   ]
  },
  {
   "cell_type": "code",
   "execution_count": null,
   "id": "530433ec",
   "metadata": {},
   "outputs": [],
   "source": [
    "A = np.array(([1,2],[1,0]))"
   ]
  },
  {
   "cell_type": "code",
   "execution_count": null,
   "id": "e2d94c6d",
   "metadata": {},
   "outputs": [],
   "source": [
    "A @ np.array(([1,2]))"
   ]
  },
  {
   "cell_type": "code",
   "execution_count": null,
   "id": "16790989",
   "metadata": {},
   "outputs": [],
   "source": [
    "# Plotting\n",
    "\n",
    "shaft = 30\n",
    "\n",
    "# Cylinder parameters\n",
    "offset = 15 # from Y origin\n",
    "r = 2 # radius\n",
    "h = 1  # height\n",
    "theta = np.linspace(0, 2*np.pi, 10)\n",
    "z = r * np.cos(theta)\n",
    "x = r * np.sin(theta)\n",
    "\n",
    "# Create cylinder surface\n",
    "cylinder = go.Surface(x=np.outer(x, np.ones_like(theta)),\n",
    "                      y=offset + np.outer(np.ones_like(theta), np.linspace(0, h, 50)),\n",
    "                      z=np.outer(z, np.ones_like(theta)),\n",
    "                      colorscale='Viridis',\n",
    "                      showscale=False)\n",
    "\n",
    "# Line in origin\n",
    "bearing_line = go.Scatter3d(x=[0, 0],\n",
    "                            y=[0, shaft],\n",
    "                            z=[0, 0],\n",
    "                            mode='lines',\n",
    "                            marker={'color': 'green'},\n",
    "                            line={'dash': 'longdash',\n",
    "                                  'width': 5})\n",
    "\n",
    "# Create figure\n",
    "fig = go.Figure(data=[cylinder, bearing_line])\n",
    "\n",
    "# Set layout\n",
    "fig.update_layout(scene=dict(aspectratio=dict(x=1, y=1, z=1),\n",
    "                             aspectmode='manual'))\n",
    "\n",
    "# Show plot\n",
    "fig.show()\n"
   ]
  },
  {
   "cell_type": "code",
   "execution_count": null,
   "id": "06975a0a",
   "metadata": {},
   "outputs": [],
   "source": [
    "np.identity(4)"
   ]
  },
  {
   "cell_type": "code",
   "execution_count": null,
   "id": "80505ece",
   "metadata": {},
   "outputs": [],
   "source": []
  }
 ],
 "metadata": {
  "kernelspec": {
   "display_name": "Python 3 (ipykernel)",
   "language": "python",
   "name": "python3"
  },
  "language_info": {
   "codemirror_mode": {
    "name": "ipython",
    "version": 3
   },
   "file_extension": ".py",
   "mimetype": "text/x-python",
   "name": "python",
   "nbconvert_exporter": "python",
   "pygments_lexer": "ipython3",
   "version": "3.11.5"
  }
 },
 "nbformat": 4,
 "nbformat_minor": 5
}
