{
 "cells": [
  {
   "cell_type": "markdown",
   "metadata": {},
   "source": [
    "# Sistema de Referência\n",
    "\n",
    "Buscando compreender os fenômenos relacionados com os movimentos descritos pelo conjunto rotativo, o sistema será representado matematicamente com o auxílio de dois sistemas de referência, um inercial $R_0(X-Y-Z)$ e outro móvel $R(x-y-z)$, conforme abaixo ilustrado.\n",
    "\n",
    "<div align=\"center\">\n",
    "<img src=\"img/Coordinate_system.png\" width=\"400\"/>\n",
    "</div>\n",
    "\n",
    "O objetivo da utilização de sistemas móveis de referência na cinemática é facilitar a representação de movimentos complexos, subdividindo-os em vários movimentos mais simples que se somam para compor o movimento absoluto. Toda a representação matemática é baseada em cursores considerando uma origem predefinida, conforme descrito a seguir."
   ]
  },
  {
   "cell_type": "markdown",
   "metadata": {},
   "source": [
    "## Sistema inercial\n",
    "\n",
    "Composto pela origem $O$ e cursores $\\mathbf{\\hat{X}}$, $\\mathbf{\\hat{Y}}$, $\\mathbf{\\hat{Z}}$, na forma $$R_0:\\{O, \\mathbf{\\hat{X}},\\mathbf{\\hat{Y}},\\mathbf{\\hat{Z}}\\}.$$\n",
    "\n",
    "Sua origem coincide com o centro geométrico dos mancais, e nesta base os vetores serão representados a partir dos cursores $\\mathbf{\\hat{X}}$, $\\mathbf{\\hat{Y}}$, $\\mathbf{\\hat{Z}}$. Por exemplo, o vetor posição pode ser expresso como $$\\mathbf{r}_{R_0} = X_0 \\mathbf{\\hat{X}} + Y_0 \\mathbf{\\hat{Y}} + Z_0 \\mathbf{\\hat{Z}}.$$\n",
    "\n",
    "As grandezas escalares $X_0$, $Y_0$, e  $Z_0$ indicam a amplitude deste vetor nas respectivas direções."
   ]
  },
  {
   "cell_type": "markdown",
   "metadata": {},
   "source": [
    "<div align=\"center\">\n",
    "<img src=\"img/Sistema_de_coodenadas.png\" width=\"400\"/>\n",
    "</div>"
   ]
  },
  {
   "cell_type": "markdown",
   "metadata": {},
   "source": [
    "## Sitema móvel\n",
    "\n",
    "Composto pela origem $G$ e cursores $\\mathbf{\\hat{x}}$, $\\mathbf{\\hat{y}}$, $\\mathbf{\\hat{z}}$, na forma\n",
    "$$R:\\{G, \\mathbf{\\hat{x}},\\mathbf{\\hat{y}},\\mathbf{\\hat{z}}\\}.$$\n",
    "\n",
    "Sua origem coincide com o centro de massa do disco, e nesta base os vetores serão representados a partir de seus cursores, por exemplo, o vetor posição pode ser expresso como $$\\mathbf{r}_{R} = \\textit{x} \\mathbf{\\hat{x}} + \\textit{y} \\mathbf{\\hat{y}} + \\textit{z} \\mathbf{\\hat{z}}.$$\n",
    "\n",
    "E, de forma análoga ao utilizado no sistema inercial, as grandezas escalares $x$, $y$ e $z$ indicam a amplitude deste vetor nas respectivas direções."
   ]
  },
  {
   "cell_type": "markdown",
   "metadata": {},
   "source": [
    "### Transformação de Coordenadas\n",
    "\n",
    "O fato de o sistema de coordenadas móvel girar, implica que os cursores do sistemas móvel $R(x-y-z)$ e o sistema inercial de referência $R_0(X-Y-Z)$ deixem de ser paralelos e passem a guardar uma relação entre os cursores do sistema inercial e do sistema móvel dependente dos angulos $\\psi=\\psi(t)$, $\\theta=\\theta(t)$ e $\\phi=\\phi(t)$ por exemplo, conforme figura abaixo. Esta relação entre sistemas é dada pela matriz de transformação de coordenadas, a qual leva a representação do vetor de uma base para outra base.\n",
    "\n",
    "<div align=\"center\">\n",
    "<img src=\"img/Sistema de coodenadas giros x1 y.png\" width=\"500\"/>\n",
    "</div>\n",
    "\n",
    "Para coincidir a orientação do sistema de referência móvel com o sistema inercial aplica-se um grupo de rotações tridimensionais a partir da origem. Essas rotações consecutivas não são comutativas, ou seja, a ordem que são aplicadas faz diferença no resultado final.\n",
    "\n",
    "Assim sendo, podemos inicialmente aplicar uma rotação  de angulo $\\psi$ em torno do eixo $Z$, de sentido positivo conforme a regra da mão direitra. \n",
    "\n",
    "<div align=\"center\">\n",
    "<img src=\"img/Sistema de coodenadas giro z.png\" width=\"500\"/>\n",
    "</div>"
   ]
  },
  {
   "cell_type": "markdown",
   "metadata": {},
   "source": [
    "Dessa forma o vetor velocidade angular da base $R_1 : \\{{G,\\mathbf{\\hat{x}_1},\\mathbf{\\hat{y}_1},\\mathbf{\\hat{z}_1}}\\}$ em relação à base inercial $R_0$ pode ser escrita como\n",
    "\n",
    "$$\\mathbf{\\omega}_{R_1/R_0} = \n",
    "\\begin{align}\n",
    "    \\begin{Bmatrix}\n",
    "        0 \\\\\n",
    "        0 \\\\\n",
    "        \\dot{\\psi}(t)\n",
    "    \\end{Bmatrix}\n",
    "\\end{align}_{R_1}\n",
    "$$\n",
    "$$\n",
    "= \\begin{align}\n",
    "    \\begin{Bmatrix}\n",
    "        0 \\\\\n",
    "        0 \\\\\n",
    "        \\dot{\\psi}(t)\n",
    "    \\end{Bmatrix}\n",
    "\\end{align}_{R_0}\n",
    "$$\n",
    "\n",
    "ou como\n",
    "\n",
    "$$\\mathbf{\\omega}_{R_1/R_0} = \\dot{\\psi}(t) \\mathbf{\\hat{z}_1} = \\dot{\\psi}(t) \\mathbf{\\hat{Z}}.$$\n",
    "\n",
    "Projetando-se os cursores da base móvel sobre a base inercial, chega-se a seguinte relação entre eles, escrita de forma matricial\n",
    "\n",
    "$$\\begin{align}\n",
    "    \\begin{Bmatrix}\n",
    "        x_1 \\\\\n",
    "        y_1 \\\\\n",
    "        z_1\n",
    "    \\end{Bmatrix}_{R_1}\n",
    "\\end{align}\n",
    "=\n",
    "\\begin{bmatrix}\n",
    "    \\cos{\\psi} & \\sin{\\psi} & 0 \\\\ \n",
    "    -\\sin{\\psi} & \\cos{\\psi} & 0 \\\\ \n",
    "    0 & 0 & 1\n",
    "\\end{bmatrix}\n",
    "\\begin{Bmatrix}\n",
    "    X_0 \\\\\n",
    "    Y_0 \\\\\n",
    "    Z_0\n",
    "\\end{Bmatrix}_{R_0},\n",
    "$$\n",
    "\n",
    "onde \n",
    "\n",
    "$${}_{R_1}T_{R_0} = \n",
    "\\begin{bmatrix}\n",
    "    \\cos{\\psi} & \\sin{\\psi} & 0 \\\\ \n",
    "    -\\sin{\\psi} & \\cos{\\psi} & 0 \\\\ \n",
    "    0 & 0 & 1\n",
    "\\end{bmatrix}$$\n",
    "\n",
    "é a matriz de transformação de coordenadas que, quando aplicada a um vetor representado no sistema $R_0$, gera um representação no sistema de referência intermediário $R_1 : \\{G, \\mathbf{\\hat{x}_1}, \\mathbf{\\hat{y}_1}, \\mathbf{\\hat{z}_1}\\}$.\n",
    "\n",
    "O código a seguir ilustra a transformação de um vetor representado na base $R_0$ para uma base $R_1$ rotacionada em 45°."
   ]
  }
 ],
 "metadata": {
  "kernelspec": {
   "display_name": "ross",
   "language": "python",
   "name": "python3"
  },
  "language_info": {
   "codemirror_mode": {
    "name": "ipython",
    "version": 3
   },
   "file_extension": ".py",
   "mimetype": "text/x-python",
   "name": "python",
   "nbconvert_exporter": "python",
   "pygments_lexer": "ipython3",
   "version": "3.12.4"
  }
 },
 "nbformat": 4,
 "nbformat_minor": 2
}
