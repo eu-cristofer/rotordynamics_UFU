{
 "cells": [
  {
   "cell_type": "markdown",
   "id": "a772a018",
   "metadata": {},
   "source": [
    "# Cinemática e Cinética de Partículas no Plano e no Espaço\n",
    "\n",
    "Material extraído do livro de Ilmar Ferreira Santos, Dinâmica de Sistemas Mecânicos, MAKRON Books, 2001. São Paulo."
   ]
  },
  {
   "cell_type": "markdown",
   "id": "3a7e04be",
   "metadata": {},
   "source": [
    "## Sistema de Referencia Inercial\n",
    "Para descrever o movimento de uma particula é necessario, antes de mais nada, que se defina um sistema de referência, no qual os vetores de posicão, velocidade e aceleraçãoo, bem como os de força possam ser representados.\n",
    "\n"
   ]
  },
  {
   "cell_type": "code",
   "execution_count": null,
   "id": "f977a463",
   "metadata": {},
   "outputs": [],
   "source": []
  }
 ],
 "metadata": {
  "kernelspec": {
   "display_name": "Python 3 (ipykernel)",
   "language": "python",
   "name": "python3"
  },
  "language_info": {
   "codemirror_mode": {
    "name": "ipython",
    "version": 3
   },
   "file_extension": ".py",
   "mimetype": "text/x-python",
   "name": "python",
   "nbconvert_exporter": "python",
   "pygments_lexer": "ipython3",
   "version": "3.10.12"
  }
 },
 "nbformat": 4,
 "nbformat_minor": 5
}
