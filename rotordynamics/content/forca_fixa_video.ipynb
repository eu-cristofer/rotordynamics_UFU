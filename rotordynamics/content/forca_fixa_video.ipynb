{
 "cells": [
  {
   "cell_type": "markdown",
   "id": "33721760-62b0-4229-a6c6-b2aceac2a510",
   "metadata": {},
   "source": [
    "# Animação - Excitação harmônica fixa no espaço"
   ]
  },
  {
   "cell_type": "markdown",
   "id": "6152ad75",
   "metadata": {},
   "source": [
    "<div align=\"center\">\n",
    "    <video width=\"600\"\n",
    "       src=\"https://github.com/eu-cristofer/rotordynamics_UFU/raw/main/videos/forca_fixa.mp4\"  \n",
    "       controls>\n",
    "    </video>\n",
    "</div>"
   ]
  }
 ],
 "metadata": {
  "kernelspec": {
   "display_name": "",
   "name": ""
  },
  "language_info": {
   "codemirror_mode": {
    "name": "ipython",
    "version": 3
   },
   "file_extension": ".py",
   "mimetype": "text/x-python",
   "name": "python",
   "nbconvert_exporter": "python",
   "pygments_lexer": "ipython3",
   "version": "3.12.5"
  }
 },
 "nbformat": 4,
 "nbformat_minor": 5
}
