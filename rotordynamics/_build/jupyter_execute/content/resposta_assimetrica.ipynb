{
 "cells": [
  {
   "cell_type": "markdown",
   "id": "79f376a9-e75b-4670-8806-5ada5fc6c27d",
   "metadata": {},
   "source": [
    "# Resposta a solicitação -- Rotor Assimétrico\n",
    "\n",
    "Nesta seção vamos analisar a resposta a solicitação para alguns casos casos típicos de excitações aplicadas ao conjunto."
   ]
  }
 ],
 "metadata": {
  "kernelspec": {
   "display_name": "",
   "name": ""
  },
  "language_info": {
   "codemirror_mode": {
    "name": "ipython",
    "version": 3
   },
   "file_extension": ".py",
   "mimetype": "text/x-python",
   "name": "python",
   "nbconvert_exporter": "python",
   "pygments_lexer": "ipython3",
   "version": "3.12.5"
  }
 },
 "nbformat": 4,
 "nbformat_minor": 5
}