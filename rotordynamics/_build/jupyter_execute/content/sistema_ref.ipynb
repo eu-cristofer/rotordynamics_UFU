{
 "cells": [
  {
   "cell_type": "markdown",
   "metadata": {},
   "source": [
    "# Sistema de Referência\n",
    "\n",
    "Buscando compreender os fenômenos relacionados com os movimentos descritos pelo conjunto rotativo, o sistema será representado matematicamente com o auxílio de dois sistemas de referência, um inercial $R_0(X-Y-Z)$ e outro móvel $R(x-y-z)$, conforme abaixo ilustrado."
   ]
  },
  {
   "cell_type": "markdown",
   "metadata": {},
   "source": [
    "```{image} ../../img/Coordinate_system.png\n",
    ":width: 400px\n",
    ":align: center\n",
    "```"
   ]
  },
  {
   "cell_type": "markdown",
   "metadata": {},
   "source": [
    "O objetivo da utilização de sistemas móveis de referência na cinemática é facilitar a representação de movimentos complexos, subdividindo-os em vários movimentos mais simples que se somam para compor o movimento absoluto. Toda a representação matemática é baseada em cursores considerando uma origem predefinida, conforme descrito a seguir."
   ]
  },
  {
   "cell_type": "markdown",
   "metadata": {},
   "source": [
    "## Sistema inercial\n",
    "\n",
    "Composto pela origem $O$ e cursores $\\mathbf{\\hat{X}}$, $\\mathbf{\\hat{Y}}$, $\\mathbf{\\hat{Z}}$, na forma \n",
    "\n",
    "$$R_0:\\{O, \\mathbf{\\hat{X}},\\mathbf{\\hat{Y}},\\mathbf{\\hat{Z}}\\}.$$\n",
    "\n",
    "Sua origem coincide com o centro geométrico dos mancais, e nesta base os vetores serão representados a partir dos cursores $\\mathbf{\\hat{X}}$, $\\mathbf{\\hat{Y}}$, $\\mathbf{\\hat{Z}}$. Por exemplo, o vetor posição pode ser expresso como\n",
    "\n",
    "$$\\mathbf{r}_{R_0} = X_0 \\mathbf{\\hat{X}} + Y_0 \\mathbf{\\hat{Y}} + Z_0 \\mathbf{\\hat{Z}}.$$\n",
    "\n",
    "As grandezas escalares $X_0$, $Y_0$, e  $Z_0$ indicam a amplitude deste vetor nas respectivas direções."
   ]
  },
  {
   "cell_type": "markdown",
   "metadata": {},
   "source": [
    "```{image} ../../img/Sistema_de_coodenadas.png\n",
    ":width: 400px\n",
    ":align: center\n",
    "```"
   ]
  },
  {
   "cell_type": "markdown",
   "metadata": {},
   "source": [
    "## Sitema móvel\n",
    "\n",
    "Composto pela origem $G$ e cursores $\\mathbf{\\hat{x}}$, $\\mathbf{\\hat{y}}$, $\\mathbf{\\hat{z}}$, na forma\n",
    "\n",
    "$$R:\\{G, \\mathbf{\\hat{x}},\\mathbf{\\hat{y}},\\mathbf{\\hat{z}}\\}.$$\n",
    "\n",
    "Sua origem coincide com o centro de massa do disco, e nesta base os vetores serão representados a partir de seus cursores, por exemplo, o vetor posição pode ser expresso como\n",
    "\n",
    "$$\\mathbf{r}_{R} = \\textit{x} \\mathbf{\\hat{x}} + \\textit{y} \\mathbf{\\hat{y}} + \\textit{z} \\mathbf{\\hat{z}}.$$\n",
    "\n",
    "E, de forma análoga ao utilizado no sistema inercial, as grandezas escalares $x$, $y$ e $z$ indicam a amplitude deste vetor nas respectivas direções."
   ]
  }
 ],
 "metadata": {
  "kernelspec": {
   "display_name": "ross",
   "language": "python",
   "name": "python3"
  },
  "language_info": {
   "codemirror_mode": {
    "name": "ipython",
    "version": 3
   },
   "file_extension": ".py",
   "mimetype": "text/x-python",
   "name": "python",
   "nbconvert_exporter": "python",
   "pygments_lexer": "ipython3",
   "version": "3.12.5"
  }
 },
 "nbformat": 4,
 "nbformat_minor": 2
}