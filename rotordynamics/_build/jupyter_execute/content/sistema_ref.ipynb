{
 "cells": [
  {
   "cell_type": "markdown",
   "metadata": {},
   "source": [
    "# Sistema de Referência\n",
    "\n",
    "Buscando compreender os fenômenos relacionados com os movimentos descritos pelo conjunto rotativo, o sistema será representado matematicamente com o auxílio de dois sistemas de referência, um inercial $R_0(X-Y-Z)$ e outro móvel $R(x-y-z)$, conforme abaixo ilustrado."
   ]
  },
  {
   "cell_type": "markdown",
   "metadata": {},
   "source": [
    "```{image} ../../img/Coordinate_system.png\n",
    ":width: 400px\n",
    ":align: center\n",
    "```"
   ]
  },
  {
   "cell_type": "markdown",
   "metadata": {},
   "source": [
    "O objetivo da utilização de sistemas móveis de referência na cinemática é facilitar a representação de movimentos complexos, subdividindo-os em vários movimentos mais simples que se somam para compor o movimento absoluto. Toda a representação matemática é baseada em cursores considerando uma origem predefinida, conforme descrito a seguir."
   ]
  },
  {
   "cell_type": "markdown",
   "metadata": {},
   "source": [
    "## Sistema inercial\n",
    "\n",
    "Composto pela origem $O$ e cursores $\\mathbf{\\hat{X}}$, $\\mathbf{\\hat{Y}}$, $\\mathbf{\\hat{Z}}$, na forma \n",
    "\n",
    "$$R_0:\\{O, \\mathbf{\\hat{X}},\\mathbf{\\hat{Y}},\\mathbf{\\hat{Z}}\\}.$$\n",
    "\n",
    "Sua origem coincide com o centro geométrico dos mancais, e nesta base os vetores serão representados a partir dos cursores $\\mathbf{\\hat{X}}$, $\\mathbf{\\hat{Y}}$, $\\mathbf{\\hat{Z}}$. Por exemplo, o vetor posição pode ser expresso como\n",
    "\n",
    "$$\\mathbf{r}_{R_0} = X_0 \\mathbf{\\hat{X}} + Y_0 \\mathbf{\\hat{Y}} + Z_0 \\mathbf{\\hat{Z}}.$$\n",
    "\n",
    "As grandezas escalares $X_0$, $Y_0$, e  $Z_0$ indicam a amplitude deste vetor nas respectivas direções."
   ]
  },
  {
   "cell_type": "markdown",
   "metadata": {},
   "source": [
    "```{image} ../../img/Sistema_de_coodenadas.png\n",
    ":width: 400px\n",
    ":align: center\n",
    "```"
   ]
  },
  {
   "cell_type": "markdown",
   "metadata": {},
   "source": [
    "## Sitema móvel\n",
    "\n",
    "Composto pela origem $G$ e cursores $\\mathbf{\\hat{x}}$, $\\mathbf{\\hat{y}}$, $\\mathbf{\\hat{z}}$, na forma\n",
    "\n",
    "$$R:\\{G, \\mathbf{\\hat{x}},\\mathbf{\\hat{y}},\\mathbf{\\hat{z}}\\}.$$\n",
    "\n",
    "Sua origem coincide com o centro de massa do disco, e nesta base os vetores serão representados a partir de seus cursores, por exemplo, o vetor posição pode ser expresso como\n",
    "\n",
    "$$\\mathbf{r}_{R} = \\textit{x} \\mathbf{\\hat{x}} + \\textit{y} \\mathbf{\\hat{y}} + \\textit{z} \\mathbf{\\hat{z}}.$$\n",
    "\n",
    "E, de forma análoga ao utilizado no sistema inercial, as grandezas escalares $x$, $y$ e $z$ indicam a amplitude deste vetor nas respectivas direções."
   ]
  },
  {
   "cell_type": "markdown",
   "metadata": {},
   "source": [
    "# Transformação de Coordenadas\n",
    "\n",
    "O fato de o sistema de coordenadas móvel girar, implica que os cursores do sistemas móvel $R(x-y-z)$ e o sistema inercial de referência $R_0(X-Y-Z)$ deixem de ser paralelos e passem a guardar uma relação entre os cursores do sistema inercial e do sistema móvel dependente dos angulos $\\psi=\\psi(t)$, $\\theta=\\theta(t)$ e $\\phi=\\phi(t)$ por exemplo, conforme figura abaixo. Esta relação entre sistemas é dada pela matriz de transformação de coordenadas, a qual leva a representação do vetor de uma base para outra base.\n",
    "\n",
    "```{image} ../../img/Sistema_de_coordenadas_giros_x1_y.png\n",
    ":width: 400px\n",
    ":align: center\n",
    "```\n",
    "\n",
    "Para coincidir a orientação do sistema de referência móvel com o sistema inercial aplica-se um grupo de rotações tridimensionais a partir da origem. Essas rotações consecutivas não são comutativas, ou seja, a ordem que são aplicadas faz diferença no resultado final.\n",
    "\n",
    "Assim sendo, podemos inicialmente aplicar uma rotação  de angulo $\\psi$ em torno do eixo $Z$, de sentido positivo conforme a regra da mão direitra. "
   ]
  },
  {
   "cell_type": "markdown",
   "metadata": {},
   "source": [
    "```{image} ../../img/Sistema_de_coordenadas_giro_z.png\n",
    ":width: 400px\n",
    ":align: center\n",
    "```"
   ]
  },
  {
   "cell_type": "markdown",
   "metadata": {},
   "source": [
    "Dessa forma o vetor velocidade angular da base $R_1 : \\{{G,\\mathbf{\\hat{x}_1},\\mathbf{\\hat{y}_1},\\mathbf{\\hat{z}_1}}\\}$ em relação à base inercial $R_0$ pode ser escrita como\n",
    "\n",
    "$$\\mathbf{\\omega}_{R_1/R_0} = \n",
    "\\begin{align}\n",
    "    \\begin{Bmatrix}\n",
    "        0 \\\\\n",
    "        0 \\\\\n",
    "        \\dot{\\psi}(t)\n",
    "    \\end{Bmatrix}\n",
    "\\end{align}_{R_1}\n",
    "$$\n",
    "$$\n",
    "= \\begin{align}\n",
    "    \\begin{Bmatrix}\n",
    "        0 \\\\\n",
    "        0 \\\\\n",
    "        \\dot{\\psi}(t)\n",
    "    \\end{Bmatrix}\n",
    "\\end{align}_{R_0}\n",
    "$$\n",
    "\n",
    "ou como\n",
    "\n",
    "$$\\mathbf{\\omega}_{R_1/R_0} = \\dot{\\psi}(t) \\mathbf{\\hat{z}_1} = \\dot{\\psi}(t) \\mathbf{\\hat{Z}}.$$\n",
    "\n",
    "Projetando-se os cursores da base móvel sobre a base inercial, chega-se a seguinte relação entre eles, escrita de forma matricial\n",
    "\n",
    "$$\\begin{align}\n",
    "    \\begin{Bmatrix}\n",
    "        x_1 \\\\\n",
    "        y_1 \\\\\n",
    "        z_1\n",
    "    \\end{Bmatrix}_{R_1}\n",
    "\\end{align}\n",
    "=\n",
    "\\begin{bmatrix}\n",
    "    \\cos{\\psi} & \\sin{\\psi} & 0 \\\\ \n",
    "    -\\sin{\\psi} & \\cos{\\psi} & 0 \\\\ \n",
    "    0 & 0 & 1\n",
    "\\end{bmatrix}\n",
    "\\begin{Bmatrix}\n",
    "    X_0 \\\\\n",
    "    Y_0 \\\\\n",
    "    Z_0\n",
    "\\end{Bmatrix}_{R_0},\n",
    "$$\n",
    "\n",
    "onde \n",
    "\n",
    "$${}_{R_1}T_{R_0} = \n",
    "\\begin{bmatrix}\n",
    "    \\cos{\\psi} & \\sin{\\psi} & 0 \\\\ \n",
    "    -\\sin{\\psi} & \\cos{\\psi} & 0 \\\\ \n",
    "    0 & 0 & 1\n",
    "\\end{bmatrix}$$\n",
    "\n",
    "é a matriz de transformação de coordenadas que, quando aplicada a um vetor representado no sistema $R_0$, gera um representação no sistema de referência intermediário $R_1 : \\{G, \\mathbf{\\hat{x}_1}, \\mathbf{\\hat{y}_1}, \\mathbf{\\hat{z}_1}\\}$.\n",
    "\n",
    "O código a seguir ilustra a transformação de um vetor representado na base $R_0$ para uma base $R_1$ rotacionada em 45°."
   ]
  },
  {
   "cell_type": "code",
   "execution_count": 1,
   "metadata": {},
   "outputs": [
    {
     "data": {
      "text/plain": [
       "array([0.70710678, 0.70710678, 0.        ])"
      ]
     },
     "execution_count": 1,
     "metadata": {},
     "output_type": "execute_result"
    }
   ],
   "source": [
    "import numpy as np\n",
    "\n",
    "# Giro em torno de Z\n",
    "psi = np.pi / 4\n",
    "\n",
    "# Matriz de Transformação de Coordenadas R0_R1\n",
    "transformation_R0_R1 = np.array(([np.cos(psi) , np.sin(psi), 0],\n",
    "                                 [-np.sin(psi), np.cos(psi), 0],\n",
    "                                 [0           , 0          , 1]))\n",
    "\n",
    "# Verificando a implementação, definindo um vetor em R0\n",
    "vector_R0 = np.array(([0, 1, 0]))\n",
    "\n",
    "# Aplicando a matriz de transformação\n",
    "vector_R1 = transformation_R0_R1 @ vector_R0\n",
    "vector_R1"
   ]
  },
  {
   "cell_type": "markdown",
   "metadata": {},
   "source": [
    "Assim sendo, qualquer vetor descrito no sistema $R_0$ ou $R_1$ pode ser reescrito em outro sistema $R_1$ ou $R_0$ simplesmente quando os mesmos são multiplicados pela matriz de transformação de coordenadas ${}_{R_1}T_{R_0}$ ou ${}_{R_1}T^{-1}_{R_0}$. \n",
    "\n",
    "Destaca-se aqui que as matrizes de rotação são conceituadas em Álgebra Linear como um caso especial das transformações lineares. São matrizes ortogonais e, logo, são quadradas e sua inversa é igual a sua transposta, \n",
    "\n",
    "$${}_{R_1}T_{R_0}^{-1} = {}_{R_1}T_{R_0}^T = {}_{R_0}T_{R_1},$$\n",
    "\n",
    "e seu determinante é igual a um,\n",
    "\n",
    "$$\\det{({}_{R_1}T_{R_0})} = 1.$$\n",
    "\n",
    "Assim sendo, temos\n",
    "\n",
    "$$\\textbf{r}_{R_1} = {}_{R_1}T_{R_0} \\cdot \\textbf{r}_{R_0} \\\\\n",
    "\\textbf{r}_{R_0} = {}_{R_1}T_{R_0}^T \\cdot \\textbf{r}_{R_1}$$\n",
    "\n",
    "ou seja, a transformação linear representada pela matriz ${}_{R_1}T_{R_0}^T$ atuaria na transformação de coordenadas do sistema sistema móvel $R_1$ para o sistema inercial $R_0$."
   ]
  },
  {
   "cell_type": "markdown",
   "metadata": {},
   "source": [
    "Assim sendo, qualquer vetor descrito no sistema $R_0$ ou $R_1$ pode ser reescrito em outro sistema $R_1$ ou $R_0$ simplesmente quando os mesmos são multiplicados pela matriz de transformação de coordenadas ${}_{R_1}T_{R_0}$ ou ${}_{R_1}T^{-1}_{R_0}$. \n",
    "\n",
    "Destaca-se aqui que as matrizes de rotação são conceituadas em Álgebra Linear como um caso especial das transformações lineares. São matrizes ortogonais e, logo, são quadradas e sua inversa é igual a sua transposta, \n",
    "\n",
    "$${}_{R_1}T_{R_0}^{-1} = {}_{R_1}T_{R_0}^T = {}_{R_0}T_{R_1},$$\n",
    "\n",
    "e seu determinante é igual a um,\n",
    "\n",
    "$$\\det{({}_{R_1}T_{R_0})} = 1.$$\n",
    "\n",
    "Assim sendo, temos\n",
    "\n",
    "$$\\textbf{r}_{R_1} = {}_{R_1}T_{R_0} \\cdot \\textbf{r}_{R_0} \\\\\n",
    "\\textbf{r}_{R_0} = {}_{R_1}T_{R_0}^T \\cdot \\textbf{r}_{R_1}$$\n",
    "\n",
    "ou seja, a transformação linear representada pela matriz ${}_{R_1}T_{R_0}^T$ atuaria na transformação de coordenadas do sistema sistema móvel $R_1$ para o sistema inercial $R_0$."
   ]
  },
  {
   "cell_type": "code",
   "execution_count": 2,
   "metadata": {},
   "outputs": [
    {
     "data": {
      "text/plain": [
       "np.True_"
      ]
     },
     "execution_count": 2,
     "metadata": {},
     "output_type": "execute_result"
    }
   ],
   "source": [
    "# o módulo do vector_R0 é igual ao vector_R1?\n",
    "np.linalg.norm(vector_R0) == np.linalg.norm(vector_R1) == 1.0"
   ]
  },
  {
   "cell_type": "code",
   "execution_count": 3,
   "metadata": {},
   "outputs": [
    {
     "data": {
      "text/plain": [
       "np.True_"
      ]
     },
     "execution_count": 3,
     "metadata": {},
     "output_type": "execute_result"
    }
   ],
   "source": [
    "# o módulo do vector_R0 é igual ao vector_R1?\n",
    "np.linalg.norm(vector_R0) == np.linalg.norm(vector_R1) == 1.0"
   ]
  },
  {
   "cell_type": "code",
   "execution_count": 4,
   "metadata": {},
   "outputs": [
    {
     "data": {
      "text/plain": [
       "np.True_"
      ]
     },
     "execution_count": 4,
     "metadata": {},
     "output_type": "execute_result"
    }
   ],
   "source": [
    "# o módulo do vector_R0 é igual ao vector_R1?\n",
    "np.linalg.norm(vector_R0) == np.linalg.norm(vector_R1) == 1.0"
   ]
  },
  {
   "cell_type": "markdown",
   "metadata": {},
   "source": [
    "Aplicando rotações sucessivas, prosseguimos com o eixo $X$, temos a seguinte matriz de transformação:\n",
    "\n",
    "$$\\begin{align}\n",
    "    \\begin{Bmatrix}\n",
    "        x_2 \\\\\n",
    "        y_2 \\\\\n",
    "        z_2\n",
    "    \\end{Bmatrix}_{R_2}\n",
    "\\end{align}\n",
    "=\n",
    "\\begin{bmatrix}\n",
    "    1 & 0 & 0 \\\\ \n",
    "    0 & \\cos{\\theta}& \\sin{\\theta} \\\\ \n",
    "    0 & -\\sin{\\theta} & \\cos{\\theta}\n",
    "\\end{bmatrix}\n",
    "\\begin{Bmatrix}\n",
    "    x_1 \\\\\n",
    "    y_1 \\\\\n",
    "    z_1\n",
    "\\end{Bmatrix}_{R_1}.\n",
    "$$\n",
    "\n",
    "onde \n",
    "\n",
    "$${}_{R_2}T_{R_1} = \n",
    "\\begin{bmatrix}\n",
    "    1 & 0 & 0 \\\\ \n",
    "    0 & \\cos{\\theta}& \\sin{\\theta} \\\\ \n",
    "    0 & -\\sin{\\theta} & \\cos{\\theta}\n",
    "\\end{bmatrix}.$$\n",
    "\n",
    "Dessa forma o vetor velocidade angular da base $R_2 : \\{{G,\\mathbf{\\hat{x}_2},\\mathbf{\\hat{y}_2},\\mathbf{\\hat{z}_2}}\\}$ em relação à base $R_1$ pode ser escrita como\n",
    "\n",
    "$$\\mathbf{\\omega}_{R_2/R_1} = \n",
    "\\begin{align}\n",
    "    \\begin{Bmatrix}\n",
    "        \\dot{\\theta}(t)  \\\\\n",
    "        0 \\\\\n",
    "        0\n",
    "    \\end{Bmatrix}\n",
    "\\end{align}_{R_2}\n",
    "$$\n",
    "$$\n",
    "= \\begin{align}\n",
    "    \\begin{Bmatrix}\n",
    "        \\dot{\\theta}(t)  \\\\\n",
    "        0 \\\\\n",
    "        0\n",
    "    \\end{Bmatrix}\n",
    "\\end{align}_{R_1}\n",
    "$$\n",
    "\n",
    "ou como\n",
    "\n",
    "$$\\mathbf{\\omega}_{R_2/R_1} = \\dot{\\theta}(t) \\mathbf{\\hat{x}_2} = \\dot{\\theta}(t) \\mathbf{\\hat{x}_1}.$$"
   ]
  },
  {
   "cell_type": "code",
   "execution_count": 5,
   "metadata": {},
   "outputs": [
    {
     "data": {
      "text/plain": [
       "array([ 0.        ,  0.70710678, -0.70710678])"
      ]
     },
     "execution_count": 5,
     "metadata": {},
     "output_type": "execute_result"
    }
   ],
   "source": [
    "# Giro em torno de x1\n",
    "theta = np.pi / 4\n",
    "\n",
    "transformation_R1_R2 = np.array(([1, 0, 0],\n",
    "                                 [0, np.cos(theta), np.sin(theta)],\n",
    "                                 [0, -np.sin(theta), np.cos(theta)]))\n",
    "\n",
    "# Verificando a implementação, considerando\n",
    "# que a rotação em Z foi efeturada com o ângulo psi = 0.\n",
    "\n",
    "# Aplicando a matriz de transformação\n",
    "vector_R2 = transformation_R1_R2 @ vector_R0\n",
    "vector_R2"
   ]
  },
  {
   "cell_type": "markdown",
   "metadata": {},
   "source": [
    "Para rotações positivas no eixo $Y$ temos a seguinte matriz de transformação:\n",
    "\n",
    "$$\\begin{align}\n",
    "    \\begin{Bmatrix}\n",
    "        x \\\\\n",
    "        y \\\\\n",
    "        z\n",
    "    \\end{Bmatrix}_{R}\n",
    "\\end{align}\n",
    "=\n",
    "\\begin{bmatrix}\n",
    "    \\cos{\\phi} & 0 & -\\sin{\\phi} \\\\ \n",
    "    0 & 1 & 0 \\\\ \n",
    "    \\sin{\\phi} & 0 & \\cos{\\phi}\n",
    "\\end{bmatrix}\n",
    "\\begin{Bmatrix}\n",
    "    x_2 \\\\\n",
    "    y_2 \\\\\n",
    "    z_2\n",
    "\\end{Bmatrix}_{R_2}.\n",
    "$$\n",
    "\n",
    "\n",
    "onde \n",
    "\n",
    "$${}_{R}T_{R_2} = \n",
    "\\begin{bmatrix}\n",
    "    \\cos{\\phi} & 0 & -\\sin{\\phi} \\\\ \n",
    "    0 & 1 & 0 \\\\ \n",
    "    \\sin{\\phi} & 0 & \\cos{\\phi}\n",
    "\\end{bmatrix}.$$\n",
    "\n",
    "Dessa forma o vetor velocidade angular da base $R : \\{{G,\\mathbf{\\hat{x}},\\mathbf{\\hat{y}},\\mathbf{\\hat{z}}}\\}$ em relação à base $R_2$ pode ser escrita como\n",
    "\n",
    "$$\\mathbf{\\omega}_{R/R_2} = \n",
    "\\begin{align}\n",
    "    \\begin{Bmatrix}\n",
    "        0 \\\\\n",
    "        \\dot{\\phi}(t) \\\\\n",
    "        0\n",
    "    \\end{Bmatrix}\n",
    "\\end{align}_{R_2}\n",
    "$$\n",
    "$$\n",
    "= \\begin{align}\n",
    "    \\begin{Bmatrix}\n",
    "        0  \\\\\n",
    "        \\dot{\\phi}(t) \\\\\n",
    "        0\n",
    "    \\end{Bmatrix}\n",
    "\\end{align}_{R_1}\n",
    "$$\n",
    "\n",
    "ou como\n",
    "\n",
    "$$\\mathbf{\\omega}_{R/R_2} = \\dot{\\phi}(t) \\mathbf{\\hat{y}} = \\dot{\\phi}(t) \\mathbf{\\hat{y}_2}.$$"
   ]
  },
  {
   "cell_type": "code",
   "execution_count": 6,
   "metadata": {},
   "outputs": [
    {
     "data": {
      "text/plain": [
       "array([0., 1., 0.])"
      ]
     },
     "execution_count": 6,
     "metadata": {},
     "output_type": "execute_result"
    }
   ],
   "source": [
    "## Giro em torno de Y\n",
    "phi = np.pi / 4\n",
    "\n",
    "transformation_R2_R = np.array(([np.cos(phi), 0,-np.sin(phi)],\n",
    "                                [0, 1, 0],\n",
    "                                [np.sin(phi), 0, np.cos(phi)]))\n",
    "\n",
    "# Verificando a implementação, considerando\n",
    "# que as rotações em Z e x1 foram efeturadas com\n",
    "# os ângulos psi = theta = 0.\n",
    "\n",
    "# Aplicando a matriz de transformação\n",
    "vector_R = transformation_R2_R @ vector_R0\n",
    "vector_R"
   ]
  },
  {
   "cell_type": "code",
   "execution_count": 7,
   "metadata": {},
   "outputs": [
    {
     "data": {
      "text/plain": [
       "array([0.70710678, 0.        , 0.70710678])"
      ]
     },
     "execution_count": 7,
     "metadata": {},
     "output_type": "execute_result"
    }
   ],
   "source": [
    "# Aplicando a matriz de transformação\n",
    "vector_R = transformation_R2_R @ np.array([1,0,0])\n",
    "vector_R"
   ]
  },
  {
   "cell_type": "markdown",
   "metadata": {},
   "source": [
    "# Vetor velocidade angular\n",
    "\n",
    "Em seguida, procedemos computando a velocidade angular instantânea do frame $R$ em relação ao frame inercial $R_0$ a partir da composição das três rotações, temos\n",
    "\n",
    "$$\\mathbf{\\omega}_{R/R_0} = \\mathbf{\\omega}_{R_1/R_0} + \\mathbf{\\omega}_{R_2/R_1} + \\mathbf{\\omega}_{R/R_2}, $$\n",
    "\n",
    "ou seja,\n",
    "\n",
    "$$\\mathbf{\\omega}_{R/R_0} = \\dot{\\psi}(t) \\mathbf{\\hat{Z}} + \\dot{\\theta}(t) \\mathbf{\\hat{x}_1} + \\dot{\\phi}(t) \\mathbf{\\hat{y}}.$$\n",
    "\n",
    "Ajustando as bases por meio das matrizes de transformação para poder efetuar a soma vetorial temos que\n",
    "\n",
    "$$\\mathbf{\\omega}_{R/R_0} = \\dot{\\psi}(t) {}_{R}T_{R_2} {}_{R_2}T_{R_1} \\mathbf{\\hat{z}_1} + \\dot{\\theta}(t) {}_{R}T_{R_2} \\mathbf{\\hat{x}_2} + \\dot{\\phi}(t) \\mathbf{\\hat{y}}$$\n",
    "\n",
    "que pode ser reescrito de forma matricial como representado no sistema de coordenadas $R$\n",
    "\n",
    "$$\n",
    "\\mathbf{\\omega}_{R/R_0}^R =\n",
    "\\begin{bmatrix}\n",
    "    \\cos{\\phi} & 0 & -\\sin{\\phi} \\\\ \n",
    "    0 & 1 & 0 \\\\ \n",
    "    \\sin{\\phi} & 0 & \\cos{\\phi}\n",
    "\\end{bmatrix}\n",
    "\\begin{bmatrix}\n",
    "    1 & 0 & 0 \\\\ \n",
    "    0 & \\cos{\\theta}& \\sin{\\theta} \\\\ \n",
    "    0 & -\\sin{\\theta} & \\cos{\\theta}\n",
    "\\end{bmatrix}\n",
    "\\begin{align}\n",
    "    \\begin{Bmatrix}\n",
    "        0 \\\\\n",
    "        0 \\\\\n",
    "        \\dot{\\psi}(t)\n",
    "    \\end{Bmatrix}\n",
    "\\end{align}_{R_1} + \\\\\n",
    "$$\n",
    "$$\\begin{bmatrix}\n",
    "    \\cos{\\phi} & 0 & -\\sin{\\phi} \\\\ \n",
    "    0 & 1 & 0 \\\\ \n",
    "    \\sin{\\phi} & 0 & \\cos{\\phi}\n",
    "\\end{bmatrix}\n",
    "\\begin{align}\n",
    "    \\begin{Bmatrix}\n",
    "        \\dot{\\theta}(t) \\\\\n",
    "        0 \\\\\n",
    "        0\n",
    "    \\end{Bmatrix}\n",
    "\\end{align}_{R_2} + \\\\\n",
    "$$\n",
    "$$\n",
    "\\begin{align}\n",
    "    \\begin{Bmatrix}\n",
    "        0 \\\\\n",
    "        \\dot{\\phi}(t) \\\\\n",
    "        0\n",
    "    \\end{Bmatrix}\n",
    "\\end{align}_{R}\n",
    "$$\n",
    "\n",
    "resultando em \n",
    "\n",
    "$$\n",
    "\\mathbf{\\omega}_{R/R_0}^R =\n",
    "\\begin{align}\n",
    "    \\begin{Bmatrix}\n",
    "        -\\dot{\\psi}(t) \\cos{\\theta} \\sin{\\phi} + \\dot{\\theta}(t) \\cos{\\phi} \\\\\n",
    "        \\dot{\\phi}(t) + \\dot{\\psi}(t) \\sin{\\theta} \\\\\n",
    "        \\dot{\\psi}(t) \\cos{\\theta} \\cos{\\phi} + \\dot{\\theta}(t) \\sin{\\phi}\n",
    "    \\end{Bmatrix}\n",
    "\\end{align}_{R}.\n",
    "$$"
   ]
  }
 ],
 "metadata": {
  "kernelspec": {
   "display_name": "ross",
   "language": "python",
   "name": "python3"
  },
  "language_info": {
   "codemirror_mode": {
    "name": "ipython",
    "version": 3
   },
   "file_extension": ".py",
   "mimetype": "text/x-python",
   "name": "python",
   "nbconvert_exporter": "python",
   "pygments_lexer": "ipython3",
   "version": "3.12.5"
  }
 },
 "nbformat": 4,
 "nbformat_minor": 2
}